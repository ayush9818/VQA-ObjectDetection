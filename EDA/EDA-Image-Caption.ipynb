{
 "cells": [
  {
   "cell_type": "code",
   "execution_count": 5,
   "metadata": {},
   "outputs": [],
   "source": [
    "import os \n",
    "import pandas as pd \n",
    "import matplotlib.pyplot as plt \n",
    "import json"
   ]
  },
  {
   "cell_type": "code",
   "execution_count": 58,
   "metadata": {},
   "outputs": [
    {
     "data": {
      "text/plain": [
       "['test.json', 'train.json', 'val.json']"
      ]
     },
     "execution_count": 58,
     "metadata": {},
     "output_type": "execute_result"
    }
   ],
   "source": [
    "base_dir = os.path.dirname(os.getcwd())\n",
    "captions_dir = os.path.join(base_dir,'vizviz/captions/annotations')\n",
    "\n",
    "train_images_dir = os.path.join(base_dir, 'vizviz/vqa/train/train')\n",
    "valid_images_dir = os.path.join(base_dir, 'vizviz/vqa/val/val')\n",
    "\n",
    "os.listdir(captions_dir)"
   ]
  },
  {
   "cell_type": "code",
   "execution_count": 39,
   "metadata": {},
   "outputs": [],
   "source": [
    "train_captions = json.load(open(os.path.join(captions_dir,'train.json')))\n",
    "valid_captions = json.load(open(os.path.join(captions_dir,'val.json')))"
   ]
  },
  {
   "cell_type": "code",
   "execution_count": 40,
   "metadata": {},
   "outputs": [],
   "source": [
    "train_images = pd.DataFrame(train_captions['images'])\n",
    "valid_images = pd.DataFrame(valid_captions['images'])\n",
    "\n",
    "train_captions = pd.DataFrame(train_captions['annotations'])\n",
    "valid_captions = pd.DataFrame(valid_captions['annotations'])"
   ]
  },
  {
   "cell_type": "code",
   "execution_count": 41,
   "metadata": {},
   "outputs": [],
   "source": [
    "train_images = train_images[['file_name', 'id']]\n",
    "valid_images = valid_images[['file_name','id']]\n",
    "\n",
    "\n",
    "train_images = train_images.rename(columns = {'id' : 'image_id'})\n",
    "valid_images = valid_images.rename(columns = {'id' : 'image_id'})"
   ]
  },
  {
   "cell_type": "code",
   "execution_count": 54,
   "metadata": {},
   "outputs": [],
   "source": [
    "train_df = train_images.merge(train_captions, how='inner', on='image_id')\n",
    "valid_df = valid_images.merge(valid_captions, how='inner', on='image_id')"
   ]
  },
  {
   "cell_type": "code",
   "execution_count": 55,
   "metadata": {},
   "outputs": [],
   "source": [
    "train_df = train_df[(train_df.text_detected == True) & (train_df.is_rejected==False) & (train_df.is_precanned == False)]\n",
    "valid_df = valid_df[(valid_df.text_detected == True) & (valid_df.is_rejected==False) & (valid_df.is_precanned == False)]"
   ]
  },
  {
   "cell_type": "code",
   "execution_count": 56,
   "metadata": {},
   "outputs": [
    {
     "data": {
      "text/plain": [
       "((66247, 7), (22618, 7))"
      ]
     },
     "execution_count": 56,
     "metadata": {},
     "output_type": "execute_result"
    }
   ],
   "source": [
    "train_df.shape, valid_df.shape"
   ]
  },
  {
   "cell_type": "code",
   "execution_count": 59,
   "metadata": {},
   "outputs": [],
   "source": [
    "train_df['image_path'] = train_df['file_name'].apply(lambda x : os.path.join(train_images_dir, x))\n",
    "valid_df['image_path'] = valid_df['file_name'].apply(lambda x : os.path.join(valid_images_dir, x))\n",
    "\n",
    "\n",
    "for idx,row in train_df.iterrows():\n",
    "    assert os.path.exists(row['image_path'])\n",
    "for idx,row in valid_df.iterrows():\n",
    "    assert os.path.exists(row['image_path'])"
   ]
  },
  {
   "cell_type": "code",
   "execution_count": 60,
   "metadata": {},
   "outputs": [],
   "source": [
    "train_df.to_csv(os.path.join(captions_dir,'train.csv'),index=False)\n",
    "valid_df.to_csv(os.path.join(captions_dir,'valid.csv'),index=False)"
   ]
  },
  {
   "cell_type": "code",
   "execution_count": null,
   "metadata": {},
   "outputs": [],
   "source": []
  }
 ],
 "metadata": {
  "kernelspec": {
   "display_name": "Python 3.9.19 ('project_env')",
   "language": "python",
   "name": "python3"
  },
  "language_info": {
   "codemirror_mode": {
    "name": "ipython",
    "version": 3
   },
   "file_extension": ".py",
   "mimetype": "text/x-python",
   "name": "python",
   "nbconvert_exporter": "python",
   "pygments_lexer": "ipython3",
   "version": "3.9.19"
  },
  "orig_nbformat": 4,
  "vscode": {
   "interpreter": {
    "hash": "90e2368e41498583b2a08aadcd9b50a6cd544d00dc1268d4144554fa52dae42b"
   }
  }
 },
 "nbformat": 4,
 "nbformat_minor": 2
}
