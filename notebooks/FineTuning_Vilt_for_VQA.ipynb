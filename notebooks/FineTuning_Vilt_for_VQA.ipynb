{
 "cells": [
  {
   "cell_type": "code",
   "execution_count": 61,
   "metadata": {},
   "outputs": [],
   "source": [
    "import warnings\n",
    "warnings.filterwarnings('ignore')\n",
    "\n",
    "import os \n",
    "import json \n",
    "import pandas as pd \n",
    "import torch\n",
    "from PIL import Image\n",
    "from transformers import ViltProcessor\n",
    "import numpy as np\n"
   ]
  },
  {
   "cell_type": "code",
   "execution_count": 11,
   "metadata": {},
   "outputs": [],
   "source": [
    "class Config:\n",
    "    base_dir = os.path.dirname(os.getcwd())\n",
    "    data_dir = os.path.join(base_dir, 'dataset')\n",
    "    image_dir = os.path.join(data_dir, 'images')\n",
    "    train_file = 'data_train.csv'\n",
    "    eval_file = 'data_eval.csv'\n",
    "    answer_space_file = 'answer_space.txt'\n",
    "\n",
    "cfg = Config()"
   ]
  },
  {
   "cell_type": "code",
   "execution_count": 12,
   "metadata": {},
   "outputs": [
    {
     "name": "stdout",
     "output_type": "stream",
     "text": [
      "Train Data Size : 9974\n",
      "Eval Data Size : 2494\n"
     ]
    }
   ],
   "source": [
    "with open(os.path.join(cfg.data_dir, cfg.answer_space_file)) as f:\n",
    "    answer_space = f.readlines()\n",
    "answer_space = [ans.strip() for ans in answer_space]\n",
    "\n",
    "train_df = pd.read_csv(os.path.join(cfg.data_dir, cfg.train_file))\n",
    "eval_df = pd.read_csv(os.path.join(cfg.data_dir, cfg.eval_file))\n",
    "\n",
    "print(f\"Train Data Size : {len(train_df)}\")\n",
    "print(f\"Eval Data Size : {len(eval_df)}\")"
   ]
  },
  {
   "cell_type": "code",
   "execution_count": 13,
   "metadata": {},
   "outputs": [],
   "source": [
    "label2id = {label:idx for idx, label in enumerate(answer_space)}\n",
    "id2label = {v:k for k,v in label2id.items()}"
   ]
  },
  {
   "cell_type": "code",
   "execution_count": 37,
   "metadata": {},
   "outputs": [],
   "source": [
    "def prepare_annotations(data_df : pd.DataFrame, label2id : dict) -> dict: \n",
    "    annotations = []\n",
    "    for idx,row in data_df.iterrows():\n",
    "        question = row['question']\n",
    "        image_id = row['image_id']\n",
    "        answer = [ans.strip() for ans in row['answer'].split(',')]\n",
    "        answer_count = {}\n",
    "        for answer_ in answer:\n",
    "            answer_count[answer_] = answer_count.get(answer_, 0) + 1\n",
    "        \n",
    "        labels = []\n",
    "        scores = []\n",
    "        for answer_ in answer_count:\n",
    "            labels.append(label2id[str(answer_)])\n",
    "            scores.append(1.0)\n",
    "        \n",
    "        annotations_dict = {\n",
    "            'question' : question,\n",
    "            'image_id' : image_id,\n",
    "            'answer' : answer,\n",
    "            'labels' : labels,\n",
    "            'scores' : scores\n",
    "        }\n",
    "        annotations.append(annotations_dict)\n",
    "    return annotations\n"
   ]
  },
  {
   "cell_type": "code",
   "execution_count": 38,
   "metadata": {},
   "outputs": [],
   "source": [
    "train_annotations = prepare_annotations(data_df = train_df, label2id = label2id)\n",
    "eval_annotations = prepare_annotations(data_df = eval_df, label2id = label2id)"
   ]
  },
  {
   "cell_type": "code",
   "execution_count": 39,
   "metadata": {},
   "outputs": [
    {
     "data": {
      "text/plain": [
       "{'question': 'what is the object on the shelves',\n",
       " 'image_id': 'image100',\n",
       " 'answer': ['cup'],\n",
       " 'labels': [149],\n",
       " 'scores': [1.0]}"
      ]
     },
     "execution_count": 39,
     "metadata": {},
     "output_type": "execute_result"
    }
   ],
   "source": []
  },
  {
   "cell_type": "code",
   "execution_count": 42,
   "metadata": {},
   "outputs": [],
   "source": [
    "class VQADataset(torch.utils.data.Dataset):\n",
    "    \"\"\"VQA (v2) dataset.\"\"\"\n",
    "\n",
    "    def __init__(self, annotations, processor, image_dir, id2label):\n",
    "        self.annotations = annotations\n",
    "        self.processor = processor\n",
    "        self.image_dir = image_dir\n",
    "        self.id2label = id2label\n",
    "\n",
    "    def __len__(self):\n",
    "        return len(self.annotations)\n",
    "\n",
    "    def __getitem__(self, idx):\n",
    "        # get image + text\n",
    "        annotation = self.annotations[idx]\n",
    "        image_id = annotation['image_id']\n",
    "        image = Image.open(os.path.join(self.image_dir, f'{image_id}.png'))\n",
    "        text = annotation['question']\n",
    "\n",
    "        encoding = self.processor(image, text, padding=\"max_length\", truncation=True, return_tensors=\"pt\")\n",
    "        # remove batch dimension\n",
    "        for k,v in encoding.items():\n",
    "          encoding[k] = v.squeeze()\n",
    "        # add labels\n",
    "        labels = annotation['labels']\n",
    "        scores = annotation['scores']\n",
    "        # based on: https://github.com/dandelin/ViLT/blob/762fd3975c180db6fc88f577cf39549983fa373a/vilt/modules/objectives.py#L301\n",
    "        targets = torch.zeros(len(self.id2label))\n",
    "        for label, score in zip(labels, scores):\n",
    "              targets[label] = score\n",
    "        encoding[\"labels\"] = targets\n",
    "        return encoding"
   ]
  },
  {
   "cell_type": "code",
   "execution_count": 48,
   "metadata": {},
   "outputs": [],
   "source": [
    "processor = ViltProcessor.from_pretrained(\"dandelin/vilt-b32-mlm\")"
   ]
  },
  {
   "cell_type": "code",
   "execution_count": 49,
   "metadata": {},
   "outputs": [],
   "source": [
    "dataset = VQADataset(annotations=train_annotations[:100],\n",
    "                     processor=processor,\n",
    "                     image_dir=cfg.image_dir,\n",
    "                     id2label=id2label\n",
    "                     )"
   ]
  },
  {
   "cell_type": "code",
   "execution_count": 50,
   "metadata": {},
   "outputs": [
    {
     "data": {
      "text/plain": [
       "dict_keys(['input_ids', 'token_type_ids', 'attention_mask', 'pixel_values', 'pixel_mask', 'labels'])"
      ]
     },
     "execution_count": 50,
     "metadata": {},
     "output_type": "execute_result"
    }
   ],
   "source": [
    "dataset[0].keys()"
   ]
  },
  {
   "cell_type": "code",
   "execution_count": 51,
   "metadata": {},
   "outputs": [
    {
     "data": {
      "text/plain": [
       "'[CLS] what is the object on the shelves [SEP] [PAD] [PAD] [PAD] [PAD] [PAD] [PAD] [PAD] [PAD] [PAD] [PAD] [PAD] [PAD] [PAD] [PAD] [PAD] [PAD] [PAD] [PAD] [PAD] [PAD] [PAD] [PAD] [PAD] [PAD] [PAD] [PAD] [PAD] [PAD] [PAD] [PAD] [PAD]'"
      ]
     },
     "execution_count": 51,
     "metadata": {},
     "output_type": "execute_result"
    }
   ],
   "source": [
    "processor.decode(dataset[0]['input_ids'])"
   ]
  },
  {
   "cell_type": "code",
   "execution_count": 65,
   "metadata": {},
   "outputs": [
    {
     "data": {
      "text/plain": [
       "['cup']"
      ]
     },
     "execution_count": 65,
     "metadata": {},
     "output_type": "execute_result"
    }
   ],
   "source": [
    "labels = np.array(torch.nonzero(dataset[0]['labels']))[0].tolist()\n",
    "[id2label[label] for label in labels]"
   ]
  },
  {
   "cell_type": "code",
   "execution_count": 57,
   "metadata": {},
   "outputs": [
    {
     "data": {
      "text/plain": [
       "149"
      ]
     },
     "execution_count": 57,
     "metadata": {},
     "output_type": "execute_result"
    }
   ],
   "source": [
    "labels"
   ]
  },
  {
   "cell_type": "code",
   "execution_count": null,
   "metadata": {},
   "outputs": [],
   "source": []
  }
 ],
 "metadata": {
  "kernelspec": {
   "display_name": "Python 3.9.19 ('project_env')",
   "language": "python",
   "name": "python3"
  },
  "language_info": {
   "codemirror_mode": {
    "name": "ipython",
    "version": 3
   },
   "file_extension": ".py",
   "mimetype": "text/x-python",
   "name": "python",
   "nbconvert_exporter": "python",
   "pygments_lexer": "ipython3",
   "version": "3.9.19"
  },
  "orig_nbformat": 4,
  "vscode": {
   "interpreter": {
    "hash": "90e2368e41498583b2a08aadcd9b50a6cd544d00dc1268d4144554fa52dae42b"
   }
  }
 },
 "nbformat": 4,
 "nbformat_minor": 2
}
